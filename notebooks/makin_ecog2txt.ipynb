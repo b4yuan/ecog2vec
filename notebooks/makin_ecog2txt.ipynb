{
 "cells": [
  {
   "cell_type": "code",
   "execution_count": 1,
   "metadata": {},
   "outputs": [
    {
     "name": "stderr",
     "output_type": "stream",
     "text": [
      "2023-12-14 11:53:06.862281: E external/local_xla/xla/stream_executor/cuda/cuda_dnn.cc:9261] Unable to register cuDNN factory: Attempting to register factory for plugin cuDNN when one has already been registered\n",
      "2023-12-14 11:53:06.862314: E external/local_xla/xla/stream_executor/cuda/cuda_fft.cc:607] Unable to register cuFFT factory: Attempting to register factory for plugin cuFFT when one has already been registered\n",
      "2023-12-14 11:53:06.863231: E external/local_xla/xla/stream_executor/cuda/cuda_blas.cc:1515] Unable to register cuBLAS factory: Attempting to register factory for plugin cuBLAS when one has already been registered\n",
      "2023-12-14 11:53:06.867917: I tensorflow/core/platform/cpu_feature_guard.cc:182] This TensorFlow binary is optimized to use available CPU instructions in performance-critical operations.\n",
      "To enable the following instructions: AVX2 FMA, in other operations, rebuild TensorFlow with the appropriate compiler flags.\n",
      "2023-12-14 11:53:07.426413: W tensorflow/compiler/tf2tensorrt/utils/py_utils.cc:38] TF-TRT Warning: Could not find TensorRT\n"
     ]
    },
    {
     "name": "stdout",
     "output_type": "stream",
     "text": [
      "WARNING: tensor2tensor not found; skipping\n",
      "WARNING: tensor2tensor missing; skipping\n"
     ]
    }
   ],
   "source": [
    "# INIT\n",
    "%reset -s -f\n",
    "# %matplotlib ipympl\n",
    "# %matplotlib inline \n",
    "# notebook\n",
    "%load_ext autoreload\n",
    "%autoreload 2\n",
    "\n",
    "# standard modules    \n",
    "import os\n",
    "import numpy as np\n",
    "\n",
    "# third-party packages\n",
    "import torch\n",
    "\n",
    "# local packages\n",
    "from utils_jgm.machine_compatibility_utils import MachineCompatibilityUtils\n",
    "import ecog2txt\n",
    "import ecog2txt.trainers as e2t_trainers\n",
    "from ecog2txt import makin_lab_data_generators\n",
    "\n",
    "MCUs = MachineCompatibilityUtils()"
   ]
  },
  {
   "cell_type": "code",
   "execution_count": 2,
   "metadata": {},
   "outputs": [
    {
     "name": "stdout",
     "output_type": "stream",
     "text": [
      "Setting feature_list for encoder_1_targets to training-intersection/validation-union\n"
     ]
    },
    {
     "name": "stderr",
     "output_type": "stream",
     "text": [
      "2023-12-14 11:53:09.177796: I external/local_xla/xla/stream_executor/cuda/cuda_executor.cc:901] successful NUMA node read from SysFS had negative value (-1), but there must be at least one NUMA node, so returning NUMA node zero. See more at https://github.com/torvalds/linux/blob/v6.0/Documentation/ABI/testing/sysfs-bus-pci#L344-L355\n",
      "2023-12-14 11:53:09.178657: I external/local_xla/xla/stream_executor/cuda/cuda_executor.cc:901] successful NUMA node read from SysFS had negative value (-1), but there must be at least one NUMA node, so returning NUMA node zero. See more at https://github.com/torvalds/linux/blob/v6.0/Documentation/ABI/testing/sysfs-bus-pci#L344-L355\n",
      "2023-12-14 11:53:09.178793: I external/local_xla/xla/stream_executor/cuda/cuda_executor.cc:901] successful NUMA node read from SysFS had negative value (-1), but there must be at least one NUMA node, so returning NUMA node zero. See more at https://github.com/torvalds/linux/blob/v6.0/Documentation/ABI/testing/sysfs-bus-pci#L344-L355\n",
      "2023-12-14 11:53:09.181508: I external/local_xla/xla/stream_executor/cuda/cuda_executor.cc:901] successful NUMA node read from SysFS had negative value (-1), but there must be at least one NUMA node, so returning NUMA node zero. See more at https://github.com/torvalds/linux/blob/v6.0/Documentation/ABI/testing/sysfs-bus-pci#L344-L355\n",
      "2023-12-14 11:53:09.181650: I external/local_xla/xla/stream_executor/cuda/cuda_executor.cc:901] successful NUMA node read from SysFS had negative value (-1), but there must be at least one NUMA node, so returning NUMA node zero. See more at https://github.com/torvalds/linux/blob/v6.0/Documentation/ABI/testing/sysfs-bus-pci#L344-L355\n",
      "2023-12-14 11:53:09.181778: I external/local_xla/xla/stream_executor/cuda/cuda_executor.cc:901] successful NUMA node read from SysFS had negative value (-1), but there must be at least one NUMA node, so returning NUMA node zero. See more at https://github.com/torvalds/linux/blob/v6.0/Documentation/ABI/testing/sysfs-bus-pci#L344-L355\n",
      "2023-12-14 11:53:09.274116: I external/local_xla/xla/stream_executor/cuda/cuda_executor.cc:901] successful NUMA node read from SysFS had negative value (-1), but there must be at least one NUMA node, so returning NUMA node zero. See more at https://github.com/torvalds/linux/blob/v6.0/Documentation/ABI/testing/sysfs-bus-pci#L344-L355\n",
      "2023-12-14 11:53:09.274278: I external/local_xla/xla/stream_executor/cuda/cuda_executor.cc:901] successful NUMA node read from SysFS had negative value (-1), but there must be at least one NUMA node, so returning NUMA node zero. See more at https://github.com/torvalds/linux/blob/v6.0/Documentation/ABI/testing/sysfs-bus-pci#L344-L355\n",
      "2023-12-14 11:53:09.274418: I external/local_xla/xla/stream_executor/cuda/cuda_executor.cc:901] successful NUMA node read from SysFS had negative value (-1), but there must be at least one NUMA node, so returning NUMA node zero. See more at https://github.com/torvalds/linux/blob/v6.0/Documentation/ABI/testing/sysfs-bus-pci#L344-L355\n",
      "2023-12-14 11:53:09.274539: I tensorflow/core/common_runtime/gpu/gpu_device.cc:1929] Created device /job:localhost/replica:0/task:0/device:GPU:0 with 46420 MB memory:  -> device: 0, name: NVIDIA RTX A6000, pci bus id: 0000:51:00.0, compute capability: 8.6\n",
      "2023-12-14 11:53:09.353164: I external/local_xla/xla/stream_executor/cuda/cuda_executor.cc:901] successful NUMA node read from SysFS had negative value (-1), but there must be at least one NUMA node, so returning NUMA node zero. See more at https://github.com/torvalds/linux/blob/v6.0/Documentation/ABI/testing/sysfs-bus-pci#L344-L355\n",
      "2023-12-14 11:53:09.353343: I external/local_xla/xla/stream_executor/cuda/cuda_executor.cc:901] successful NUMA node read from SysFS had negative value (-1), but there must be at least one NUMA node, so returning NUMA node zero. See more at https://github.com/torvalds/linux/blob/v6.0/Documentation/ABI/testing/sysfs-bus-pci#L344-L355\n",
      "2023-12-14 11:53:09.353481: I external/local_xla/xla/stream_executor/cuda/cuda_executor.cc:901] successful NUMA node read from SysFS had negative value (-1), but there must be at least one NUMA node, so returning NUMA node zero. See more at https://github.com/torvalds/linux/blob/v6.0/Documentation/ABI/testing/sysfs-bus-pci#L344-L355\n",
      "2023-12-14 11:53:09.353649: I external/local_xla/xla/stream_executor/cuda/cuda_executor.cc:901] successful NUMA node read from SysFS had negative value (-1), but there must be at least one NUMA node, so returning NUMA node zero. See more at https://github.com/torvalds/linux/blob/v6.0/Documentation/ABI/testing/sysfs-bus-pci#L344-L355\n",
      "2023-12-14 11:53:09.353782: I external/local_xla/xla/stream_executor/cuda/cuda_executor.cc:901] successful NUMA node read from SysFS had negative value (-1), but there must be at least one NUMA node, so returning NUMA node zero. See more at https://github.com/torvalds/linux/blob/v6.0/Documentation/ABI/testing/sysfs-bus-pci#L344-L355\n",
      "2023-12-14 11:53:09.353890: I tensorflow/core/common_runtime/gpu/gpu_device.cc:1929] Created device /job:localhost/replica:0/task:0/device:GPU:0 with 46420 MB memory:  -> device: 0, name: NVIDIA RTX A6000, pci bus id: 0000:51:00.0, compute capability: 8.6\n",
      "2023-12-14 11:53:09.356604: I tensorflow/compiler/mlir/mlir_graph_optimization_pass.cc:388] MLIR V1 optimization pass is not enabled\n",
      "2023-12-14 11:53:09.399977: I external/local_xla/xla/stream_executor/cuda/cuda_executor.cc:901] successful NUMA node read from SysFS had negative value (-1), but there must be at least one NUMA node, so returning NUMA node zero. See more at https://github.com/torvalds/linux/blob/v6.0/Documentation/ABI/testing/sysfs-bus-pci#L344-L355\n",
      "2023-12-14 11:53:09.400140: I external/local_xla/xla/stream_executor/cuda/cuda_executor.cc:901] successful NUMA node read from SysFS had negative value (-1), but there must be at least one NUMA node, so returning NUMA node zero. See more at https://github.com/torvalds/linux/blob/v6.0/Documentation/ABI/testing/sysfs-bus-pci#L344-L355\n",
      "2023-12-14 11:53:09.400273: I external/local_xla/xla/stream_executor/cuda/cuda_executor.cc:901] successful NUMA node read from SysFS had negative value (-1), but there must be at least one NUMA node, so returning NUMA node zero. See more at https://github.com/torvalds/linux/blob/v6.0/Documentation/ABI/testing/sysfs-bus-pci#L344-L355\n",
      "2023-12-14 11:53:09.400430: I external/local_xla/xla/stream_executor/cuda/cuda_executor.cc:901] successful NUMA node read from SysFS had negative value (-1), but there must be at least one NUMA node, so returning NUMA node zero. See more at https://github.com/torvalds/linux/blob/v6.0/Documentation/ABI/testing/sysfs-bus-pci#L344-L355\n",
      "2023-12-14 11:53:09.400562: I external/local_xla/xla/stream_executor/cuda/cuda_executor.cc:901] successful NUMA node read from SysFS had negative value (-1), but there must be at least one NUMA node, so returning NUMA node zero. See more at https://github.com/torvalds/linux/blob/v6.0/Documentation/ABI/testing/sysfs-bus-pci#L344-L355\n",
      "2023-12-14 11:53:09.400724: I tensorflow/core/common_runtime/gpu/gpu_device.cc:1929] Created device /job:localhost/replica:0/task:0/device:GPU:0 with 46420 MB memory:  -> device: 0, name: NVIDIA RTX A6000, pci bus id: 0000:51:00.0, compute capability: 8.6\n",
      "2023-12-14 11:53:09.437607: I external/local_xla/xla/stream_executor/cuda/cuda_executor.cc:901] successful NUMA node read from SysFS had negative value (-1), but there must be at least one NUMA node, so returning NUMA node zero. See more at https://github.com/torvalds/linux/blob/v6.0/Documentation/ABI/testing/sysfs-bus-pci#L344-L355\n",
      "2023-12-14 11:53:09.437762: I external/local_xla/xla/stream_executor/cuda/cuda_executor.cc:901] successful NUMA node read from SysFS had negative value (-1), but there must be at least one NUMA node, so returning NUMA node zero. See more at https://github.com/torvalds/linux/blob/v6.0/Documentation/ABI/testing/sysfs-bus-pci#L344-L355\n",
      "2023-12-14 11:53:09.437894: I external/local_xla/xla/stream_executor/cuda/cuda_executor.cc:901] successful NUMA node read from SysFS had negative value (-1), but there must be at least one NUMA node, so returning NUMA node zero. See more at https://github.com/torvalds/linux/blob/v6.0/Documentation/ABI/testing/sysfs-bus-pci#L344-L355\n",
      "2023-12-14 11:53:09.438043: I external/local_xla/xla/stream_executor/cuda/cuda_executor.cc:901] successful NUMA node read from SysFS had negative value (-1), but there must be at least one NUMA node, so returning NUMA node zero. See more at https://github.com/torvalds/linux/blob/v6.0/Documentation/ABI/testing/sysfs-bus-pci#L344-L355\n",
      "2023-12-14 11:53:09.438174: I external/local_xla/xla/stream_executor/cuda/cuda_executor.cc:901] successful NUMA node read from SysFS had negative value (-1), but there must be at least one NUMA node, so returning NUMA node zero. See more at https://github.com/torvalds/linux/blob/v6.0/Documentation/ABI/testing/sysfs-bus-pci#L344-L355\n",
      "2023-12-14 11:53:09.438280: I tensorflow/core/common_runtime/gpu/gpu_device.cc:1929] Created device /job:localhost/replica:0/task:0/device:GPU:0 with 46420 MB memory:  -> device: 0, name: NVIDIA RTX A6000, pci bus id: 0000:51:00.0, compute capability: 8.6\n",
      "2023-12-14 11:53:09.473205: I external/local_xla/xla/stream_executor/cuda/cuda_executor.cc:901] successful NUMA node read from SysFS had negative value (-1), but there must be at least one NUMA node, so returning NUMA node zero. See more at https://github.com/torvalds/linux/blob/v6.0/Documentation/ABI/testing/sysfs-bus-pci#L344-L355\n",
      "2023-12-14 11:53:09.473355: I external/local_xla/xla/stream_executor/cuda/cuda_executor.cc:901] successful NUMA node read from SysFS had negative value (-1), but there must be at least one NUMA node, so returning NUMA node zero. See more at https://github.com/torvalds/linux/blob/v6.0/Documentation/ABI/testing/sysfs-bus-pci#L344-L355\n",
      "2023-12-14 11:53:09.473484: I external/local_xla/xla/stream_executor/cuda/cuda_executor.cc:901] successful NUMA node read from SysFS had negative value (-1), but there must be at least one NUMA node, so returning NUMA node zero. See more at https://github.com/torvalds/linux/blob/v6.0/Documentation/ABI/testing/sysfs-bus-pci#L344-L355\n",
      "2023-12-14 11:53:09.473629: I external/local_xla/xla/stream_executor/cuda/cuda_executor.cc:901] successful NUMA node read from SysFS had negative value (-1), but there must be at least one NUMA node, so returning NUMA node zero. See more at https://github.com/torvalds/linux/blob/v6.0/Documentation/ABI/testing/sysfs-bus-pci#L344-L355\n",
      "2023-12-14 11:53:09.473760: I external/local_xla/xla/stream_executor/cuda/cuda_executor.cc:901] successful NUMA node read from SysFS had negative value (-1), but there must be at least one NUMA node, so returning NUMA node zero. See more at https://github.com/torvalds/linux/blob/v6.0/Documentation/ABI/testing/sysfs-bus-pci#L344-L355\n",
      "2023-12-14 11:53:09.473865: I tensorflow/core/common_runtime/gpu/gpu_device.cc:1929] Created device /job:localhost/replica:0/task:0/device:GPU:0 with 46420 MB memory:  -> device: 0, name: NVIDIA RTX A6000, pci bus id: 0000:51:00.0, compute capability: 8.6\n"
     ]
    },
    {
     "name": "stdout",
     "output_type": "stream",
     "text": [
      ".\n",
      ".\n",
      "...."
     ]
    },
    {
     "name": "stderr",
     "output_type": "stream",
     "text": [
      "2023-12-14 11:53:09.512525: I external/local_xla/xla/stream_executor/cuda/cuda_executor.cc:901] successful NUMA node read from SysFS had negative value (-1), but there must be at least one NUMA node, so returning NUMA node zero. See more at https://github.com/torvalds/linux/blob/v6.0/Documentation/ABI/testing/sysfs-bus-pci#L344-L355\n",
      "2023-12-14 11:53:09.512723: I external/local_xla/xla/stream_executor/cuda/cuda_executor.cc:901] successful NUMA node read from SysFS had negative value (-1), but there must be at least one NUMA node, so returning NUMA node zero. See more at https://github.com/torvalds/linux/blob/v6.0/Documentation/ABI/testing/sysfs-bus-pci#L344-L355\n",
      "2023-12-14 11:53:09.512853: I external/local_xla/xla/stream_executor/cuda/cuda_executor.cc:901] successful NUMA node read from SysFS had negative value (-1), but there must be at least one NUMA node, so returning NUMA node zero. See more at https://github.com/torvalds/linux/blob/v6.0/Documentation/ABI/testing/sysfs-bus-pci#L344-L355\n",
      "2023-12-14 11:53:09.513017: I external/local_xla/xla/stream_executor/cuda/cuda_executor.cc:901] successful NUMA node read from SysFS had negative value (-1), but there must be at least one NUMA node, so returning NUMA node zero. See more at https://github.com/torvalds/linux/blob/v6.0/Documentation/ABI/testing/sysfs-bus-pci#L344-L355\n",
      "2023-12-14 11:53:09.513147: I external/local_xla/xla/stream_executor/cuda/cuda_executor.cc:901] successful NUMA node read from SysFS had negative value (-1), but there must be at least one NUMA node, so returning NUMA node zero. See more at https://github.com/torvalds/linux/blob/v6.0/Documentation/ABI/testing/sysfs-bus-pci#L344-L355\n",
      "2023-12-14 11:53:09.513254: I tensorflow/core/common_runtime/gpu/gpu_device.cc:1929] Created device /job:localhost/replica:0/task:0/device:GPU:0 with 46420 MB memory:  -> device: 0, name: NVIDIA RTX A6000, pci bus id: 0000:51:00.0, compute capability: 8.6\n",
      "2023-12-14 11:53:09.548165: I external/local_xla/xla/stream_executor/cuda/cuda_executor.cc:901] successful NUMA node read from SysFS had negative value (-1), but there must be at least one NUMA node, so returning NUMA node zero. See more at https://github.com/torvalds/linux/blob/v6.0/Documentation/ABI/testing/sysfs-bus-pci#L344-L355\n",
      "2023-12-14 11:53:09.548313: I external/local_xla/xla/stream_executor/cuda/cuda_executor.cc:901] successful NUMA node read from SysFS had negative value (-1), but there must be at least one NUMA node, so returning NUMA node zero. See more at https://github.com/torvalds/linux/blob/v6.0/Documentation/ABI/testing/sysfs-bus-pci#L344-L355\n",
      "2023-12-14 11:53:09.548441: I external/local_xla/xla/stream_executor/cuda/cuda_executor.cc:901] successful NUMA node read from SysFS had negative value (-1), but there must be at least one NUMA node, so returning NUMA node zero. See more at https://github.com/torvalds/linux/blob/v6.0/Documentation/ABI/testing/sysfs-bus-pci#L344-L355\n",
      "2023-12-14 11:53:09.548589: I external/local_xla/xla/stream_executor/cuda/cuda_executor.cc:901] successful NUMA node read from SysFS had negative value (-1), but there must be at least one NUMA node, so returning NUMA node zero. See more at https://github.com/torvalds/linux/blob/v6.0/Documentation/ABI/testing/sysfs-bus-pci#L344-L355\n",
      "2023-12-14 11:53:09.548729: I external/local_xla/xla/stream_executor/cuda/cuda_executor.cc:901] successful NUMA node read from SysFS had negative value (-1), but there must be at least one NUMA node, so returning NUMA node zero. See more at https://github.com/torvalds/linux/blob/v6.0/Documentation/ABI/testing/sysfs-bus-pci#L344-L355\n",
      "2023-12-14 11:53:09.548836: I tensorflow/core/common_runtime/gpu/gpu_device.cc:1929] Created device /job:localhost/replica:0/task:0/device:GPU:0 with 46420 MB memory:  -> device: 0, name: NVIDIA RTX A6000, pci bus id: 0000:51:00.0, compute capability: 8.6\n",
      "2023-12-14 11:53:09.585758: I external/local_xla/xla/stream_executor/cuda/cuda_executor.cc:901] successful NUMA node read from SysFS had negative value (-1), but there must be at least one NUMA node, so returning NUMA node zero. See more at https://github.com/torvalds/linux/blob/v6.0/Documentation/ABI/testing/sysfs-bus-pci#L344-L355\n",
      "2023-12-14 11:53:09.585909: I external/local_xla/xla/stream_executor/cuda/cuda_executor.cc:901] successful NUMA node read from SysFS had negative value (-1), but there must be at least one NUMA node, so returning NUMA node zero. See more at https://github.com/torvalds/linux/blob/v6.0/Documentation/ABI/testing/sysfs-bus-pci#L344-L355\n",
      "2023-12-14 11:53:09.586037: I external/local_xla/xla/stream_executor/cuda/cuda_executor.cc:901] successful NUMA node read from SysFS had negative value (-1), but there must be at least one NUMA node, so returning NUMA node zero. See more at https://github.com/torvalds/linux/blob/v6.0/Documentation/ABI/testing/sysfs-bus-pci#L344-L355\n",
      "2023-12-14 11:53:09.586185: I external/local_xla/xla/stream_executor/cuda/cuda_executor.cc:901] successful NUMA node read from SysFS had negative value (-1), but there must be at least one NUMA node, so returning NUMA node zero. See more at https://github.com/torvalds/linux/blob/v6.0/Documentation/ABI/testing/sysfs-bus-pci#L344-L355\n",
      "2023-12-14 11:53:09.586315: I external/local_xla/xla/stream_executor/cuda/cuda_executor.cc:901] successful NUMA node read from SysFS had negative value (-1), but there must be at least one NUMA node, so returning NUMA node zero. See more at https://github.com/torvalds/linux/blob/v6.0/Documentation/ABI/testing/sysfs-bus-pci#L344-L355\n",
      "2023-12-14 11:53:09.586421: I tensorflow/core/common_runtime/gpu/gpu_device.cc:1929] Created device /job:localhost/replica:0/task:0/device:GPU:0 with 46420 MB memory:  -> device: 0, name: NVIDIA RTX A6000, pci bus id: 0000:51:00.0, compute capability: 8.6\n",
      "2023-12-14 11:53:09.621532: I external/local_xla/xla/stream_executor/cuda/cuda_executor.cc:901] successful NUMA node read from SysFS had negative value (-1), but there must be at least one NUMA node, so returning NUMA node zero. See more at https://github.com/torvalds/linux/blob/v6.0/Documentation/ABI/testing/sysfs-bus-pci#L344-L355\n",
      "2023-12-14 11:53:09.621681: I external/local_xla/xla/stream_executor/cuda/cuda_executor.cc:901] successful NUMA node read from SysFS had negative value (-1), but there must be at least one NUMA node, so returning NUMA node zero. See more at https://github.com/torvalds/linux/blob/v6.0/Documentation/ABI/testing/sysfs-bus-pci#L344-L355\n",
      "2023-12-14 11:53:09.621809: I external/local_xla/xla/stream_executor/cuda/cuda_executor.cc:901] successful NUMA node read from SysFS had negative value (-1), but there must be at least one NUMA node, so returning NUMA node zero. See more at https://github.com/torvalds/linux/blob/v6.0/Documentation/ABI/testing/sysfs-bus-pci#L344-L355\n",
      "2023-12-14 11:53:09.621956: I external/local_xla/xla/stream_executor/cuda/cuda_executor.cc:901] successful NUMA node read from SysFS had negative value (-1), but there must be at least one NUMA node, so returning NUMA node zero. See more at https://github.com/torvalds/linux/blob/v6.0/Documentation/ABI/testing/sysfs-bus-pci#L344-L355\n",
      "2023-12-14 11:53:09.622086: I external/local_xla/xla/stream_executor/cuda/cuda_executor.cc:901] successful NUMA node read from SysFS had negative value (-1), but there must be at least one NUMA node, so returning NUMA node zero. See more at https://github.com/torvalds/linux/blob/v6.0/Documentation/ABI/testing/sysfs-bus-pci#L344-L355\n",
      "2023-12-14 11:53:09.622191: I tensorflow/core/common_runtime/gpu/gpu_device.cc:1929] Created device /job:localhost/replica:0/task:0/device:GPU:0 with 46420 MB memory:  -> device: 0, name: NVIDIA RTX A6000, pci bus id: 0000:51:00.0, compute capability: 8.6\n",
      "2023-12-14 11:53:09.657144: I external/local_xla/xla/stream_executor/cuda/cuda_executor.cc:901] successful NUMA node read from SysFS had negative value (-1), but there must be at least one NUMA node, so returning NUMA node zero. See more at https://github.com/torvalds/linux/blob/v6.0/Documentation/ABI/testing/sysfs-bus-pci#L344-L355\n",
      "2023-12-14 11:53:09.657308: I external/local_xla/xla/stream_executor/cuda/cuda_executor.cc:901] successful NUMA node read from SysFS had negative value (-1), but there must be at least one NUMA node, so returning NUMA node zero. See more at https://github.com/torvalds/linux/blob/v6.0/Documentation/ABI/testing/sysfs-bus-pci#L344-L355\n",
      "2023-12-14 11:53:09.657435: I external/local_xla/xla/stream_executor/cuda/cuda_executor.cc:901] successful NUMA node read from SysFS had negative value (-1), but there must be at least one NUMA node, so returning NUMA node zero. See more at https://github.com/torvalds/linux/blob/v6.0/Documentation/ABI/testing/sysfs-bus-pci#L344-L355\n",
      "2023-12-14 11:53:09.657588: I external/local_xla/xla/stream_executor/cuda/cuda_executor.cc:901] successful NUMA node read from SysFS had negative value (-1), but there must be at least one NUMA node, so returning NUMA node zero. See more at https://github.com/torvalds/linux/blob/v6.0/Documentation/ABI/testing/sysfs-bus-pci#L344-L355\n",
      "2023-12-14 11:53:09.657717: I external/local_xla/xla/stream_executor/cuda/cuda_executor.cc:901] successful NUMA node read from SysFS had negative value (-1), but there must be at least one NUMA node, so returning NUMA node zero. See more at https://github.com/torvalds/linux/blob/v6.0/Documentation/ABI/testing/sysfs-bus-pci#L344-L355\n",
      "2023-12-14 11:53:09.657823: I tensorflow/core/common_runtime/gpu/gpu_device.cc:1929] Created device /job:localhost/replica:0/task:0/device:GPU:0 with 46420 MB memory:  -> device: 0, name: NVIDIA RTX A6000, pci bus id: 0000:51:00.0, compute capability: 8.6\n",
      "2023-12-14 11:53:09.692869: I external/local_xla/xla/stream_executor/cuda/cuda_executor.cc:901] successful NUMA node read from SysFS had negative value (-1), but there must be at least one NUMA node, so returning NUMA node zero. See more at https://github.com/torvalds/linux/blob/v6.0/Documentation/ABI/testing/sysfs-bus-pci#L344-L355\n",
      "2023-12-14 11:53:09.693018: I external/local_xla/xla/stream_executor/cuda/cuda_executor.cc:901] successful NUMA node read from SysFS had negative value (-1), but there must be at least one NUMA node, so returning NUMA node zero. See more at https://github.com/torvalds/linux/blob/v6.0/Documentation/ABI/testing/sysfs-bus-pci#L344-L355\n",
      "2023-12-14 11:53:09.693146: I external/local_xla/xla/stream_executor/cuda/cuda_executor.cc:901] successful NUMA node read from SysFS had negative value (-1), but there must be at least one NUMA node, so returning NUMA node zero. See more at https://github.com/torvalds/linux/blob/v6.0/Documentation/ABI/testing/sysfs-bus-pci#L344-L355\n",
      "2023-12-14 11:53:09.693292: I external/local_xla/xla/stream_executor/cuda/cuda_executor.cc:901] successful NUMA node read from SysFS had negative value (-1), but there must be at least one NUMA node, so returning NUMA node zero. See more at https://github.com/torvalds/linux/blob/v6.0/Documentation/ABI/testing/sysfs-bus-pci#L344-L355\n",
      "2023-12-14 11:53:09.693421: I external/local_xla/xla/stream_executor/cuda/cuda_executor.cc:901] successful NUMA node read from SysFS had negative value (-1), but there must be at least one NUMA node, so returning NUMA node zero. See more at https://github.com/torvalds/linux/blob/v6.0/Documentation/ABI/testing/sysfs-bus-pci#L344-L355\n",
      "2023-12-14 11:53:09.693526: I tensorflow/core/common_runtime/gpu/gpu_device.cc:1929] Created device /job:localhost/replica:0/task:0/device:GPU:0 with 46420 MB memory:  -> device: 0, name: NVIDIA RTX A6000, pci bus id: 0000:51:00.0, compute capability: 8.6\n"
     ]
    },
    {
     "name": "stdout",
     "output_type": "stream",
     "text": [
      "....\n",
      "All tf_records have been written...\n",
      "Setting feature_list for decoder_targets to vocab list stored in /home/bayuan/Documents/fall23/ecog2vec/packages/ecog2txt/ecog2txt/auxiliary/vocab.mocha-timit.1806\n",
      "USING GRU in the RNNs\n",
      "COUPLING ENCODER TO DECODER WITH ATTENTION\n"
     ]
    },
    {
     "name": "stderr",
     "output_type": "stream",
     "text": [
      "/home/bayuan/anaconda3/envs/ecog2txt/lib/python3.9/site-packages/torch/nn/modules/rnn.py:82: UserWarning: dropout option adds dropout after all but last recurrent layer, so non-zero dropout expects num_layers greater than 1, but got dropout=0.5 and num_layers=1\n",
      "  warnings.warn(\"dropout option adds dropout after all but last \"\n"
     ]
    }
   ],
   "source": [
    "# CREATE A NEW MODEL\n",
    "experiment = 'mocha-1'\n",
    "token_type = 'word_sequence'\n",
    "project = 'EFC'\n",
    "subject_ids = [401]\n",
    "\n",
    "experiment_manifest_name = os.path.join(\n",
    "    project,\n",
    "    '_'.join([experiment, token_type]) + '.yaml'\n",
    ")\n",
    "trainer = e2t_trainers.MultiSubjectTrainer(\n",
    "    experiment_manifest_name=experiment_manifest_name,\n",
    "    subject_ids=subject_ids,\n",
    "    SN_kwargs={\n",
    "        # 'Nepochs': 20,\n",
    "        # 'training_GPUs': [1],\n",
    "        'layer_sizes': {\n",
    "            'decoder_embedding': [150],\n",
    "            'decoder_projection': [],\n",
    "            'decoder_rnn': [800],\n",
    "            'encoder_embedding': [100],\n",
    "            'encoder_rnn': [400, 400, 400],\n",
    "            # 'encoder_0_projection': [225],\n",
    "            'encoder_1_projection': [225],\n",
    "        },\n",
    "        'coupling': 'attention',\n",
    "        'RNN_type': 'GRU',\n",
    "    },\n",
    "    DG_kwargs={\n",
    "        'REFERENCE_BIPOLAR': True,\n",
    "        'prefix': project,\n",
    "        'subdir': 'with_audio',\n",
    "        'num_cepstral_coeffs': 13,\n",
    "        # 'max_seconds': 3,\n",
    "        'tf_record_partial_path': os.path.join(\n",
    "            MCUs.get_path('data'),\n",
    "            'ecog2txt', token_type, 'tf_records_w2v_sil_rem', # 200 Hz, 429 channels\n",
    "            # 'ecog2txt', token_type, 'tf_records_BY_raw_filtered', # 200 Hz, 238 channels\n",
    "            project + repr(subject_ids[-1]) + '_B{0}.tfrecord', # 101 Hz\n",
    "        ),\n",
    "        'REFERENCE_BIPOLAR': False,\n",
    "        'good_electrodes': list(range(512)),\n",
    "        'grid_size': [512, 1],\n",
    "        'sampling_rate': 101.7\n",
    "    },\n",
    "    ES_kwargs = {\n",
    "        'data_mapping': {\n",
    "            'encoder_inputs': 'ecog_sequence',\n",
    "            'encoder_1_targets': 'phoneme_sequence',\n",
    "            # 'encoder_1_targets': 'audio_sequence',\n",
    "            'decoder_targets': 'text_sequence',\n",
    "        },\n",
    "    },\n",
    ")"
   ]
  },
  {
   "cell_type": "code",
   "execution_count": 3,
   "metadata": {},
   "outputs": [
    {
     "name": "stdout",
     "output_type": "stream",
     "text": [
      "Before:\n",
      "{'validation': {83}, 'testing': {87}, 'training': {66, 4, 69, 41, 73, 77, 57, 61}}\n",
      "After:\n",
      "{'validation': {83}, 'testing': {}, 'training': {66, 4, 69, 73, 41, 77, 87, 57, 61}}\n"
     ]
    }
   ],
   "source": [
    "print('Before:')\n",
    "print(trainer.ecog_subjects[-1].block_ids)\n",
    "\n",
    "trainer.ecog_subjects[-1].block_ids = {\n",
    "    'validation': {83},\n",
    "    'testing': {},\n",
    "    'training': {4, 41, 57, 61, 66, 69, 73, 77, 87}\n",
    "}\n",
    "\n",
    "# ['testing'] = set()\n",
    "# trainer.ecog_subjects[-1].block_ids['training'] = {41, 57, 61, 66, 69, 73, 77, 83, 87}\n",
    "# trainer.ecog_subjects[-1].block_ids['validation'] = {4}\n",
    "\n",
    "print('After:')\n",
    "print(trainer.ecog_subjects[-1].block_ids)"
   ]
  },
  {
   "cell_type": "code",
   "execution_count": 4,
   "metadata": {},
   "outputs": [],
   "source": [
    "import torch\n",
    "from machine_learning.neural_networks.torch_sequence_networks import (\n",
    "    Sequence2Sequence, SequenceTrainer\n",
    ")\n",
    "\n",
    "# device = torch.device('cuda' if torch.cuda.is_available() else 'cpu')\n",
    "# device = 'cpu'\n",
    "device = 'cuda' if torch.cuda.is_available() else 'cpu'\n",
    "manifest = trainer.experiment_manifest[trainer.ecog_subjects[-1].subnet_id]\n",
    "\n",
    "torch_trainer = SequenceTrainer(manifest, trainer.ecog_subjects)"
   ]
  },
  {
   "cell_type": "code",
   "execution_count": 5,
   "metadata": {},
   "outputs": [
    {
     "name": "stdout",
     "output_type": "stream",
     "text": [
      "\n",
      "\u001b[46mdon't do charlie dirty dishes                                don't do charlie dirty dishes\u001b[0m\n",
      "\u001b[46mhelp celebrate your brother success                          help celebrate your brother success\u001b[0m\n",
      "\u001b[46mcatastrophic economic cutbacks neglect the poor              catastrophic economic cutbacks neglect the poor\u001b[0m\n",
      "\u001b[46mmum strongly dislikes appetizers                             mum strongly dislikes appetizers\u001b[0m\n",
      "\u001b[46ma roll of wire lay near the wall                             a roll of wire lay near the wall\u001b[0m\n",
      "\u001b[46mwill robin wear a yellow lily                                will robin wear a yellow lily\u001b[0m\n",
      "\u001b[46maddition and subtraction are learned skills                  addition and subtraction are learned skills\u001b[0m\n",
      "\u001b[46mthose thieves stole thirty jewels                            those thieves stole thirty jewels\u001b[0m\n",
      "\u001b[46mswing your arm as high as you can                            swing your arm as high as you can\u001b[0m\n",
      "\u001b[46mwhere were you while we were away                            where were you while we were away\u001b[0m\n",
      "\u001b[46mis this seesaw safe                                          is this seesaw safe\u001b[0m\n",
      "\u001b[46metiquette mandates compliance with existing regulations      etiquette mandates compliance with existing regulations\u001b[0m\n",
      "[assessment]  epoch: 390  encoder_1_cross_entropy: 7.97e+01 decoder_cross_entropy: 5.63e-02 WER: 0.000  (validation data)\n",
      "\u001b[43mwhen all else fails use force                                when all else fails use force\u001b[0m\n",
      "\u001b[43myoung people participate in athletic activities              young people participate in athletic activities\u001b[0m\n",
      "\u001b[43mare your grades higher or lower than nancy                   are your grades higher or lower than nancy\u001b[0m\n",
      "\u001b[43mhelp greg to pick a peck of potatoes                         help greg to pick a peck of potatoes\u001b[0m\n",
      "\u001b[43mshe is thinner than i am                                     she is thinner than i am\u001b[0m\n",
      "\u001b[43mbright sunshine shimmers on the ocean                        bright sunshine shimmers on the ocean\u001b[0m\n",
      "\u001b[43ma roll of wire lay near the wall                             a roll of wire lay near the wall\u001b[0m\n",
      "\u001b[43mbasketball can be an entertaining sport                      basketball can be an entertaining sport\u001b[0m\n",
      "\u001b[43mthis was easy for us                                         this was easy for us\u001b[0m\n",
      "\u001b[43mthose musicians harmonize marvellously                       those musicians harmonize marvellously\u001b[0m\n",
      "\u001b[43mdid dad do academic bidding                                  did dad do academic bidding\u001b[0m\n",
      "\u001b[43mis this seesaw safe                                          is this seesaw safe\u001b[0m\n",
      "[assessment]  epoch: 390  encoder_1_cross_entropy: 4.41e-01 decoder_cross_entropy: 1.33e-03 WER: 0.000  (training data)\n",
      "[ training ]  epoch: 391  encoder_1_cross_entropy: 4.46e+00 decoder_cross_entropy: 3.18e-03\t\n",
      "[ training ]  epoch: 392  encoder_1_cross_entropy: 4.70e+00 decoder_cross_entropy: 3.16e-03\t\n",
      "[ training ]  epoch: 393  encoder_1_cross_entropy: 4.58e+00 decoder_cross_entropy: 3.11e-03\t\n",
      "[ training ]  epoch: 394  encoder_1_cross_entropy: 4.51e+00 decoder_cross_entropy: 3.14e-03\t\n",
      "[ training ]  epoch: 395  encoder_1_cross_entropy: 4.63e+00 decoder_cross_entropy: 3.28e-03\t\n",
      "[ training ]  epoch: 396  encoder_1_cross_entropy: 4.36e+00 decoder_cross_entropy: 3.08e-03\t\n",
      "[ training ]  epoch: 397  encoder_1_cross_entropy: 4.58e+00 decoder_cross_entropy: 3.00e-03\t\n",
      "[ training ]  epoch: 398  encoder_1_cross_entropy: 4.44e+00 decoder_cross_entropy: 3.11e-03\t\n",
      "[ training ]  epoch: 399  encoder_1_cross_entropy: 4.41e+00 decoder_cross_entropy: 3.13e-03\t\n"
     ]
    }
   ],
   "source": [
    "torch_trainer.train_and_assess(400, trainer.net, device)"
   ]
  },
  {
   "cell_type": "code",
   "execution_count": 8,
   "metadata": {},
   "outputs": [
    {
     "data": {
      "text/plain": [
       "0.10458826282895559"
      ]
     },
     "execution_count": 8,
     "metadata": {},
     "output_type": "execute_result"
    }
   ],
   "source": [
    "from scipy.stats import ranksums\n",
    "\n",
    "wer_orig = [0.242, 0.241, 0.025, 0.022, 0.020, 0.017, 0.080, 0.043, 0.072, 0.021, \n",
    "            0.060, 0.021, 0.071, 0.020, 0.000, 0.034, 0.054, 0.053, 0.096, 0.107]\n",
    "wer_w2v_sil_inc = [0.590, 0.701, 0.105, 0.068, 0.000, 0.042, 0.043, 0.041, 0.080, 0.094, \n",
    "                   0.027, 0.030, 0.017, 0.060, 0.035, 0.018, 0.020, 0.057, 0.073, 0.075]\n",
    "wer_w2v_sil_rem = [0.549, 0.594, 0.123, 0.090, 0.058, 0.057, 0.043, 0.023, 0.074, 0.105,\n",
    "                   0.037, 0.058, 0.093, 0.094, 0.036, 0.062, 0.040, 0.000, 0.066, 0.089]\n",
    "\n",
    "statistic, p = ranksums(wer_orig, wer_w2v_sil_rem, alternative='two-sided')\n",
    "p"
   ]
  }
 ],
 "metadata": {
  "kernelspec": {
   "display_name": "ecog2txt",
   "language": "python",
   "name": "python3"
  },
  "language_info": {
   "codemirror_mode": {
    "name": "ipython",
    "version": 3
   },
   "file_extension": ".py",
   "mimetype": "text/x-python",
   "name": "python",
   "nbconvert_exporter": "python",
   "pygments_lexer": "ipython3",
   "version": "3.9.18"
  }
 },
 "nbformat": 4,
 "nbformat_minor": 2
}
