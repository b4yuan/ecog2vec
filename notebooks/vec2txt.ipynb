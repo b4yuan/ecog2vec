{
 "cells": [
  {
   "cell_type": "markdown",
   "metadata": {},
   "source": [
    "This file is named `vec2txt` but really is just `jgm/ecog2txt`. I claim no code written in this file."
   ]
  },
  {
   "cell_type": "code",
   "execution_count": null,
   "metadata": {},
   "outputs": [],
   "source": [
    "# INIT\n",
    "%reset -s -f\n",
    "# %matplotlib ipympl\n",
    "# %matplotlib inline \n",
    "# notebook\n",
    "%load_ext autoreload\n",
    "%autoreload 2\n",
    "\n",
    "# standard modules    \n",
    "import os\n",
    "import numpy as np\n",
    "\n",
    "# third-party packages\n",
    "import torch\n",
    "\n",
    "# local packages\n",
    "from utils_jgm.machine_compatibility_utils import MachineCompatibilityUtils\n",
    "import ecog2txt\n",
    "import ecog2txt.trainers as e2t_trainers\n",
    "from ecog2txt import makin_lab_data_generators\n",
    "\n",
    "MCUs = MachineCompatibilityUtils()"
   ]
  },
  {
   "cell_type": "code",
   "execution_count": null,
   "metadata": {},
   "outputs": [],
   "source": [
    "# CREATE A NEW MODEL\n",
    "experiment = 'mocha-1'\n",
    "token_type = 'word_sequence'\n",
    "project = 'EFC'\n",
    "subject_ids = [401]\n",
    "\n",
    "experiment_manifest_name = os.path.join(\n",
    "    project,\n",
    "    '_'.join([experiment, token_type]) + '.yaml'\n",
    ")\n",
    "trainer = e2t_trainers.MultiSubjectTrainer(\n",
    "    experiment_manifest_name=experiment_manifest_name,\n",
    "    subject_ids=subject_ids,\n",
    "    SN_kwargs={\n",
    "        # 'Nepochs': 20,\n",
    "        # 'training_GPUs': [1],\n",
    "        'layer_sizes': {\n",
    "            'decoder_embedding': [150],\n",
    "            'decoder_projection': [],\n",
    "            'decoder_rnn': [800],\n",
    "            'encoder_embedding': [100],\n",
    "            'encoder_rnn': [400, 400, 400],\n",
    "            # 'encoder_0_projection': [225],\n",
    "            'encoder_1_projection': [225],\n",
    "        },\n",
    "        'coupling': 'attention',\n",
    "        'RNN_type': 'GRU',\n",
    "    },\n",
    "    DG_kwargs={\n",
    "        'REFERENCE_BIPOLAR': True,\n",
    "        'prefix': project,\n",
    "        'subdir': 'with_audio',\n",
    "        'num_cepstral_coeffs': 13,\n",
    "        # 'max_seconds': 3,\n",
    "        'tf_record_partial_path': os.path.join(\n",
    "            MCUs.get_path('data'),\n",
    "            'ecog2txt', token_type, 'tf_records_w2v_sil_inc', # 200 Hz, 429 channels\n",
    "            # 'ecog2txt', token_type, 'tf_records_BY_raw_filtered', # 200 Hz, 238 channels\n",
    "            project + repr(subject_ids[-1]) + '_B{0}.tfrecord', # 101 Hz\n",
    "        ),\n",
    "        'REFERENCE_BIPOLAR': False,\n",
    "        'good_electrodes': list(range(512)),\n",
    "        'grid_size': [512, 1],\n",
    "        'sampling_rate': 101.7\n",
    "    },\n",
    "    ES_kwargs = {\n",
    "        'data_mapping': {\n",
    "            'encoder_inputs': 'ecog_sequence',\n",
    "            'encoder_1_targets': 'phoneme_sequence',\n",
    "            # 'encoder_1_targets': 'audio_sequence',\n",
    "            'decoder_targets': 'text_sequence',\n",
    "        },\n",
    "    },\n",
    ")"
   ]
  },
  {
   "cell_type": "code",
   "execution_count": null,
   "metadata": {},
   "outputs": [],
   "source": [
    "print('Before:')\n",
    "print(trainer.ecog_subjects[-1].block_ids)\n",
    "\n",
    "trainer.ecog_subjects[-1].block_ids = {\n",
    "    'validation': {73},\n",
    "    'testing': {},\n",
    "    'training': {69, 77, 83, 87}# {4, 41, 57, 61, 66, 69, 73, 77, 83, 87}\n",
    "}\n",
    "\n",
    "# trainer.ecog_subjects[-1].block_ids = {\n",
    "#     'validation': {72},\n",
    "#     'testing': {},\n",
    "#     'training': {23,3}\n",
    "# }\n",
    "\n",
    "# ['testing'] = set()\n",
    "# trainer.ecog_subjects[-1].block_ids['training'] = {41, 57, 61, 66, 69, 73, 77, 83, 87}\n",
    "# trainer.ecog_subjects[-1].block_ids['validation'] = {4}\n",
    "\n",
    "print('After:')\n",
    "print(trainer.ecog_subjects[-1].block_ids)"
   ]
  },
  {
   "cell_type": "code",
   "execution_count": null,
   "metadata": {},
   "outputs": [],
   "source": [
    "import torch\n",
    "from machine_learning.neural_networks.torch_sequence_networks import (\n",
    "    Sequence2Sequence, SequenceTrainer\n",
    ")\n",
    "\n",
    "# device = torch.device('cuda' if torch.cuda.is_available() else 'cpu')\n",
    "# device = 'cpu'\n",
    "device = 'cuda' if torch.cuda.is_available() else 'cpu'\n",
    "manifest = trainer.experiment_manifest[trainer.ecog_subjects[-1].subnet_id]\n",
    "\n",
    "torch_trainer = SequenceTrainer(manifest, trainer.ecog_subjects)"
   ]
  },
  {
   "cell_type": "code",
   "execution_count": null,
   "metadata": {},
   "outputs": [],
   "source": [
    "torch_trainer.train_and_assess(400, trainer.net, device)"
   ]
  }
 ],
 "metadata": {
  "kernelspec": {
   "display_name": "ecog2txt",
   "language": "python",
   "name": "python3"
  },
  "language_info": {
   "codemirror_mode": {
    "name": "ipython",
    "version": 3
   },
   "file_extension": ".py",
   "mimetype": "text/x-python",
   "name": "python",
   "nbconvert_exporter": "python",
   "pygments_lexer": "ipython3",
   "version": "3.9.18"
  }
 },
 "nbformat": 4,
 "nbformat_minor": 2
}
